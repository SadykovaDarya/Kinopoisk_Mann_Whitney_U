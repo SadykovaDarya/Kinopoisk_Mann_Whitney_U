{
 "cells": [
  {
   "cell_type": "code",
   "execution_count": 36,
   "metadata": {},
   "outputs": [],
   "source": [
    "import pandas as pd\n",
    "from scipy.stats import mannwhitneyu\n",
    "import numpy as np"
   ]
  },
  {
   "cell_type": "code",
   "execution_count": 5,
   "metadata": {},
   "outputs": [
    {
     "data": {
      "text/html": [
       "<div>\n",
       "<style scoped>\n",
       "    .dataframe tbody tr th:only-of-type {\n",
       "        vertical-align: middle;\n",
       "    }\n",
       "\n",
       "    .dataframe tbody tr th {\n",
       "        vertical-align: top;\n",
       "    }\n",
       "\n",
       "    .dataframe thead th {\n",
       "        text-align: right;\n",
       "    }\n",
       "</style>\n",
       "<table border=\"1\" class=\"dataframe\">\n",
       "  <thead>\n",
       "    <tr style=\"text-align: right;\">\n",
       "      <th></th>\n",
       "      <th>num</th>\n",
       "      <th>name_rus</th>\n",
       "      <th>rating_new</th>\n",
       "      <th>origin</th>\n",
       "      <th>genre</th>\n",
       "      <th>rating_old</th>\n",
       "      <th>qty_views</th>\n",
       "    </tr>\n",
       "  </thead>\n",
       "  <tbody>\n",
       "    <tr>\n",
       "      <th>0</th>\n",
       "      <td>1</td>\n",
       "      <td>Зеленая миля</td>\n",
       "      <td>9.1</td>\n",
       "      <td>США</td>\n",
       "      <td>фэнтези/ драма</td>\n",
       "      <td>8.9</td>\n",
       "      <td>692418</td>\n",
       "    </tr>\n",
       "    <tr>\n",
       "      <th>1</th>\n",
       "      <td>2</td>\n",
       "      <td>Побег из Шоушенка</td>\n",
       "      <td>9.1</td>\n",
       "      <td>США</td>\n",
       "      <td>драма</td>\n",
       "      <td>8.9</td>\n",
       "      <td>784326</td>\n",
       "    </tr>\n",
       "    <tr>\n",
       "      <th>2</th>\n",
       "      <td>3</td>\n",
       "      <td>Властелин колец: Возвращение короля</td>\n",
       "      <td>8.6</td>\n",
       "      <td>Новая Зеландия/ США</td>\n",
       "      <td>фэнтези/ приключения</td>\n",
       "      <td>8.8</td>\n",
       "      <td>481829</td>\n",
       "    </tr>\n",
       "    <tr>\n",
       "      <th>3</th>\n",
       "      <td>4</td>\n",
       "      <td>Властелин колец: Две крепости</td>\n",
       "      <td>8.6</td>\n",
       "      <td>Новая Зеландия/ США</td>\n",
       "      <td>фэнтези/ приключения</td>\n",
       "      <td>8.8</td>\n",
       "      <td>467607</td>\n",
       "    </tr>\n",
       "    <tr>\n",
       "      <th>4</th>\n",
       "      <td>5</td>\n",
       "      <td>Властелин колец: Братство Кольца</td>\n",
       "      <td>8.6</td>\n",
       "      <td>Новая Зеландия/ США</td>\n",
       "      <td>фэнтези/ приключения</td>\n",
       "      <td>8.8</td>\n",
       "      <td>516856</td>\n",
       "    </tr>\n",
       "  </tbody>\n",
       "</table>\n",
       "</div>"
      ],
      "text/plain": [
       "   num                             name_rus  rating_new               origin  \\\n",
       "0    1                         Зеленая миля         9.1                  США   \n",
       "1    2                    Побег из Шоушенка         9.1                  США   \n",
       "2    3  Властелин колец: Возвращение короля         8.6  Новая Зеландия/ США   \n",
       "3    4        Властелин колец: Две крепости         8.6  Новая Зеландия/ США   \n",
       "4    5     Властелин колец: Братство Кольца         8.6  Новая Зеландия/ США   \n",
       "\n",
       "                  genre  rating_old  qty_views  \n",
       "0        фэнтези/ драма         8.9     692418  \n",
       "1                 драма         8.9     784326  \n",
       "2  фэнтези/ приключения         8.8     481829  \n",
       "3  фэнтези/ приключения         8.8     467607  \n",
       "4  фэнтези/ приключения         8.8     516856  "
      ]
     },
     "execution_count": 5,
     "metadata": {},
     "output_type": "execute_result"
    }
   ],
   "source": [
    "t = pd.read_csv('2022-09-21 17-47-27.csv', sep = ';', encoding = 'cp1251')\n",
    "t.head()"
   ]
  },
  {
   "cell_type": "code",
   "execution_count": 10,
   "metadata": {},
   "outputs": [
    {
     "data": {
      "text/html": [
       "<div>\n",
       "<style scoped>\n",
       "    .dataframe tbody tr th:only-of-type {\n",
       "        vertical-align: middle;\n",
       "    }\n",
       "\n",
       "    .dataframe tbody tr th {\n",
       "        vertical-align: top;\n",
       "    }\n",
       "\n",
       "    .dataframe thead th {\n",
       "        text-align: right;\n",
       "    }\n",
       "</style>\n",
       "<table border=\"1\" class=\"dataframe\">\n",
       "  <thead>\n",
       "    <tr style=\"text-align: right;\">\n",
       "      <th></th>\n",
       "      <th>num</th>\n",
       "      <th>rating_new</th>\n",
       "      <th>rating_old</th>\n",
       "      <th>qty_views</th>\n",
       "    </tr>\n",
       "  </thead>\n",
       "  <tbody>\n",
       "    <tr>\n",
       "      <th>count</th>\n",
       "      <td>250.000000</td>\n",
       "      <td>250.000000</td>\n",
       "      <td>250.000000</td>\n",
       "      <td>2.500000e+02</td>\n",
       "    </tr>\n",
       "    <tr>\n",
       "      <th>mean</th>\n",
       "      <td>125.500000</td>\n",
       "      <td>8.184400</td>\n",
       "      <td>8.179600</td>\n",
       "      <td>2.893783e+05</td>\n",
       "    </tr>\n",
       "    <tr>\n",
       "      <th>std</th>\n",
       "      <td>72.312977</td>\n",
       "      <td>0.272643</td>\n",
       "      <td>0.193114</td>\n",
       "      <td>1.868284e+05</td>\n",
       "    </tr>\n",
       "    <tr>\n",
       "      <th>min</th>\n",
       "      <td>1.000000</td>\n",
       "      <td>7.600000</td>\n",
       "      <td>8.000000</td>\n",
       "      <td>2.005600e+04</td>\n",
       "    </tr>\n",
       "    <tr>\n",
       "      <th>25%</th>\n",
       "      <td>63.250000</td>\n",
       "      <td>8.000000</td>\n",
       "      <td>8.000000</td>\n",
       "      <td>1.450212e+05</td>\n",
       "    </tr>\n",
       "    <tr>\n",
       "      <th>50%</th>\n",
       "      <td>125.500000</td>\n",
       "      <td>8.100000</td>\n",
       "      <td>8.100000</td>\n",
       "      <td>2.516295e+05</td>\n",
       "    </tr>\n",
       "    <tr>\n",
       "      <th>75%</th>\n",
       "      <td>187.750000</td>\n",
       "      <td>8.300000</td>\n",
       "      <td>8.300000</td>\n",
       "      <td>4.053790e+05</td>\n",
       "    </tr>\n",
       "    <tr>\n",
       "      <th>max</th>\n",
       "      <td>250.000000</td>\n",
       "      <td>9.100000</td>\n",
       "      <td>8.900000</td>\n",
       "      <td>1.303016e+06</td>\n",
       "    </tr>\n",
       "  </tbody>\n",
       "</table>\n",
       "</div>"
      ],
      "text/plain": [
       "              num  rating_new  rating_old     qty_views\n",
       "count  250.000000  250.000000  250.000000  2.500000e+02\n",
       "mean   125.500000    8.184400    8.179600  2.893783e+05\n",
       "std     72.312977    0.272643    0.193114  1.868284e+05\n",
       "min      1.000000    7.600000    8.000000  2.005600e+04\n",
       "25%     63.250000    8.000000    8.000000  1.450212e+05\n",
       "50%    125.500000    8.100000    8.100000  2.516295e+05\n",
       "75%    187.750000    8.300000    8.300000  4.053790e+05\n",
       "max    250.000000    9.100000    8.900000  1.303016e+06"
      ]
     },
     "execution_count": 10,
     "metadata": {},
     "output_type": "execute_result"
    }
   ],
   "source": [
    "t.describe()"
   ]
  },
  {
   "cell_type": "markdown",
   "metadata": {},
   "source": [
    "From description statistics it seems as though ratings are almost the same over time: similar mean, median and std. Let's compare the new and old ratings overall with the Mann-Whitney U test."
   ]
  },
  {
   "cell_type": "code",
   "execution_count": 8,
   "metadata": {},
   "outputs": [
    {
     "data": {
      "text/plain": [
       "(31175.5, 0.9629567921262221)"
      ]
     },
     "execution_count": 8,
     "metadata": {},
     "output_type": "execute_result"
    }
   ],
   "source": [
    "u1, p = mannwhitneyu(x = t.rating_new, y = t.rating_old, alternative = 'two-sided')\n",
    "u1, p"
   ]
  },
  {
   "cell_type": "markdown",
   "metadata": {},
   "source": [
    "Indeed, there is no statistial difference in ratings overall: the p-value is too big. Let's compare data by genre/country:"
   ]
  },
  {
   "cell_type": "code",
   "execution_count": 15,
   "metadata": {
    "scrolled": true
   },
   "outputs": [
    {
     "data": {
      "text/html": [
       "<div>\n",
       "<style scoped>\n",
       "    .dataframe tbody tr th:only-of-type {\n",
       "        vertical-align: middle;\n",
       "    }\n",
       "\n",
       "    .dataframe tbody tr th {\n",
       "        vertical-align: top;\n",
       "    }\n",
       "\n",
       "    .dataframe thead th {\n",
       "        text-align: right;\n",
       "    }\n",
       "</style>\n",
       "<table border=\"1\" class=\"dataframe\">\n",
       "  <thead>\n",
       "    <tr style=\"text-align: right;\">\n",
       "      <th></th>\n",
       "      <th>num</th>\n",
       "      <th>name_rus</th>\n",
       "      <th>rating_new</th>\n",
       "      <th>genre</th>\n",
       "      <th>rating_old</th>\n",
       "      <th>qty_views</th>\n",
       "    </tr>\n",
       "    <tr>\n",
       "      <th>origin</th>\n",
       "      <th></th>\n",
       "      <th></th>\n",
       "      <th></th>\n",
       "      <th></th>\n",
       "      <th></th>\n",
       "      <th></th>\n",
       "    </tr>\n",
       "  </thead>\n",
       "  <tbody>\n",
       "    <tr>\n",
       "      <th>США</th>\n",
       "      <td>110</td>\n",
       "      <td>110</td>\n",
       "      <td>110</td>\n",
       "      <td>110</td>\n",
       "      <td>110</td>\n",
       "      <td>110</td>\n",
       "    </tr>\n",
       "    <tr>\n",
       "      <th>СССР</th>\n",
       "      <td>31</td>\n",
       "      <td>31</td>\n",
       "      <td>31</td>\n",
       "      <td>31</td>\n",
       "      <td>31</td>\n",
       "      <td>31</td>\n",
       "    </tr>\n",
       "    <tr>\n",
       "      <th>Великобритания/ США</th>\n",
       "      <td>17</td>\n",
       "      <td>17</td>\n",
       "      <td>17</td>\n",
       "      <td>17</td>\n",
       "      <td>17</td>\n",
       "      <td>17</td>\n",
       "    </tr>\n",
       "    <tr>\n",
       "      <th>США/ Германия</th>\n",
       "      <td>10</td>\n",
       "      <td>10</td>\n",
       "      <td>10</td>\n",
       "      <td>10</td>\n",
       "      <td>10</td>\n",
       "      <td>10</td>\n",
       "    </tr>\n",
       "    <tr>\n",
       "      <th>Япония</th>\n",
       "      <td>9</td>\n",
       "      <td>9</td>\n",
       "      <td>9</td>\n",
       "      <td>9</td>\n",
       "      <td>9</td>\n",
       "      <td>9</td>\n",
       "    </tr>\n",
       "  </tbody>\n",
       "</table>\n",
       "</div>"
      ],
      "text/plain": [
       "                     num  name_rus  rating_new  genre  rating_old  qty_views\n",
       "origin                                                                      \n",
       "США                  110       110         110    110         110        110\n",
       "СССР                  31        31          31     31          31         31\n",
       "Великобритания/ США   17        17          17     17          17         17\n",
       "США/ Германия         10        10          10     10          10         10\n",
       "Япония                 9         9           9      9           9          9"
      ]
     },
     "execution_count": 15,
     "metadata": {},
     "output_type": "execute_result"
    }
   ],
   "source": [
    "t.groupby('origin').count().sort_values(by = 'num', ascending = False).head()"
   ]
  },
  {
   "cell_type": "markdown",
   "metadata": {},
   "source": [
    "Let's look at differences in USA over time and USSR over time."
   ]
  },
  {
   "cell_type": "code",
   "execution_count": 16,
   "metadata": {},
   "outputs": [
    {
     "data": {
      "text/plain": [
       "(5634.0, 0.3718029670954922)"
      ]
     },
     "execution_count": 16,
     "metadata": {},
     "output_type": "execute_result"
    }
   ],
   "source": [
    "u1, p = mannwhitneyu(x = t.loc[t.origin == 'США', 'rating_new'], y = t.loc[t.origin == 'США', 'rating_old']\n",
    "                     , alternative = 'two-sided')\n",
    "u1, p"
   ]
  },
  {
   "cell_type": "code",
   "execution_count": 17,
   "metadata": {},
   "outputs": [
    {
     "data": {
      "text/plain": [
       "(669.0, 0.007358118927667391)"
      ]
     },
     "execution_count": 17,
     "metadata": {},
     "output_type": "execute_result"
    }
   ],
   "source": [
    "u1, p = mannwhitneyu(x = t.loc[t.origin == 'СССР', 'rating_new'], y = t.loc[t.origin == 'СССР', 'rating_old']\n",
    "                     , alternative = 'two-sided')\n",
    "u1, p"
   ]
  },
  {
   "cell_type": "code",
   "execution_count": 19,
   "metadata": {},
   "outputs": [
    {
     "data": {
      "text/plain": [
       "(31,)"
      ]
     },
     "execution_count": 19,
     "metadata": {},
     "output_type": "execute_result"
    }
   ],
   "source": [
    "t.loc[t.origin == 'СССР', 'rating_new'].shape"
   ]
  },
  {
   "cell_type": "markdown",
   "metadata": {},
   "source": [
    "For USA there is no statistically significant difference over time, but for USSR there is. Despite the small sample size, Mann-Whitney U test should be still suited to detect it. Let's look at genres "
   ]
  },
  {
   "cell_type": "code",
   "execution_count": 21,
   "metadata": {},
   "outputs": [
    {
     "data": {
      "text/html": [
       "<div>\n",
       "<style scoped>\n",
       "    .dataframe tbody tr th:only-of-type {\n",
       "        vertical-align: middle;\n",
       "    }\n",
       "\n",
       "    .dataframe tbody tr th {\n",
       "        vertical-align: top;\n",
       "    }\n",
       "\n",
       "    .dataframe thead th {\n",
       "        text-align: right;\n",
       "    }\n",
       "</style>\n",
       "<table border=\"1\" class=\"dataframe\">\n",
       "  <thead>\n",
       "    <tr style=\"text-align: right;\">\n",
       "      <th></th>\n",
       "      <th>num</th>\n",
       "      <th>name_rus</th>\n",
       "      <th>rating_new</th>\n",
       "      <th>origin</th>\n",
       "      <th>rating_old</th>\n",
       "      <th>qty_views</th>\n",
       "    </tr>\n",
       "    <tr>\n",
       "      <th>genre</th>\n",
       "      <th></th>\n",
       "      <th></th>\n",
       "      <th></th>\n",
       "      <th></th>\n",
       "      <th></th>\n",
       "      <th></th>\n",
       "    </tr>\n",
       "  </thead>\n",
       "  <tbody>\n",
       "    <tr>\n",
       "      <th>фантастика/ боевик</th>\n",
       "      <td>19</td>\n",
       "      <td>19</td>\n",
       "      <td>19</td>\n",
       "      <td>19</td>\n",
       "      <td>19</td>\n",
       "      <td>19</td>\n",
       "    </tr>\n",
       "    <tr>\n",
       "      <th>мультфильм/ фэнтези</th>\n",
       "      <td>13</td>\n",
       "      <td>13</td>\n",
       "      <td>13</td>\n",
       "      <td>13</td>\n",
       "      <td>13</td>\n",
       "      <td>13</td>\n",
       "    </tr>\n",
       "    <tr>\n",
       "      <th>драма/ мелодрама</th>\n",
       "      <td>13</td>\n",
       "      <td>13</td>\n",
       "      <td>13</td>\n",
       "      <td>13</td>\n",
       "      <td>13</td>\n",
       "      <td>13</td>\n",
       "    </tr>\n",
       "    <tr>\n",
       "      <th>драма</th>\n",
       "      <td>12</td>\n",
       "      <td>12</td>\n",
       "      <td>12</td>\n",
       "      <td>12</td>\n",
       "      <td>12</td>\n",
       "      <td>12</td>\n",
       "    </tr>\n",
       "    <tr>\n",
       "      <th>триллер/ драма</th>\n",
       "      <td>11</td>\n",
       "      <td>11</td>\n",
       "      <td>11</td>\n",
       "      <td>11</td>\n",
       "      <td>11</td>\n",
       "      <td>11</td>\n",
       "    </tr>\n",
       "  </tbody>\n",
       "</table>\n",
       "</div>"
      ],
      "text/plain": [
       "                     num  name_rus  rating_new  origin  rating_old  qty_views\n",
       "genre                                                                        \n",
       "фантастика/ боевик    19        19          19      19          19         19\n",
       "мультфильм/ фэнтези   13        13          13      13          13         13\n",
       "драма/ мелодрама      13        13          13      13          13         13\n",
       "драма                 12        12          12      12          12         12\n",
       "триллер/ драма        11        11          11      11          11         11"
      ]
     },
     "execution_count": 21,
     "metadata": {},
     "output_type": "execute_result"
    }
   ],
   "source": [
    "t.groupby('genre').count().sort_values(by = 'num', ascending = False).head()"
   ]
  },
  {
   "cell_type": "code",
   "execution_count": 22,
   "metadata": {},
   "outputs": [
    {
     "data": {
      "text/plain": [
       "(121.5, 0.0787049093768963)"
      ]
     },
     "execution_count": 22,
     "metadata": {},
     "output_type": "execute_result"
    }
   ],
   "source": [
    "u1, p = mannwhitneyu(x = t.loc[t.genre == 'фантастика/ боевик', 'rating_new'], y = t.loc[t.genre == 'фантастика/ боевик', 'rating_old']\n",
    "                     , alternative = 'two-sided')\n",
    "u1, p"
   ]
  },
  {
   "cell_type": "markdown",
   "metadata": {},
   "source": [
    "There is no statistical difference (or at least a small chance of it) between ratings of action movies over time. Let's check the same thing with bootstrap"
   ]
  },
  {
   "cell_type": "code",
   "execution_count": 34,
   "metadata": {},
   "outputs": [],
   "source": [
    "from bstrap import bootstrap"
   ]
  },
  {
   "cell_type": "code",
   "execution_count": 38,
   "metadata": {},
   "outputs": [
    {
     "data": {
      "text/plain": [
       "({'avg_metric': 8.179429999999991,\n",
       "  'metric_ci_lb': 8.160399999999992,\n",
       "  'metric_ci_ub': 8.19881999999999},\n",
       " {'avg_metric': 8.184998399999996,\n",
       "  'metric_ci_lb': 8.156799999999995,\n",
       "  'metric_ci_ub': 8.215199999999998},\n",
       " 0.806)"
      ]
     },
     "execution_count": 38,
     "metadata": {},
     "output_type": "execute_result"
    }
   ],
   "source": [
    "old_stats, new_stats, p_value = bootstrap(np.mean, t.rating_old, t.rating_new, nbr_runs=1000)\n",
    "old_stats, new_stats, p_value"
   ]
  },
  {
   "cell_type": "markdown",
   "metadata": {},
   "source": [
    "As we can see, there is still no significant statistical difference between ratings. Let's look at countries and genres:"
   ]
  },
  {
   "cell_type": "code",
   "execution_count": 39,
   "metadata": {},
   "outputs": [
    {
     "data": {
      "text/plain": [
       "({'avg_metric': 8.177637272727278,\n",
       "  'metric_ci_lb': 8.149090909090916,\n",
       "  'metric_ci_ub': 8.206363636363644},\n",
       " {'avg_metric': 8.15514181818182,\n",
       "  'metric_ci_lb': 8.111772727272728,\n",
       "  'metric_ci_ub': 8.20181818181818},\n",
       " 0.519)"
      ]
     },
     "execution_count": 39,
     "metadata": {},
     "output_type": "execute_result"
    }
   ],
   "source": [
    "old_stats, new_stats, p_value = bootstrap(np.mean, t.loc[t.origin == 'США', 'rating_old'], t.loc[t.origin == 'США', 'rating_new'], nbr_runs=1000)\n",
    "old_stats, new_stats, p_value"
   ]
  },
  {
   "cell_type": "code",
   "execution_count": 40,
   "metadata": {},
   "outputs": [
    {
     "data": {
      "text/plain": [
       "({'avg_metric': 8.237703225806452,\n",
       "  'metric_ci_lb': 8.183870967741935,\n",
       "  'metric_ci_ub': 8.290483870967744},\n",
       " {'avg_metric': 8.378712903225807,\n",
       "  'metric_ci_lb': 8.325806451612904,\n",
       "  'metric_ci_ub': 8.43225806451613},\n",
       " 0.003)"
      ]
     },
     "execution_count": 40,
     "metadata": {},
     "output_type": "execute_result"
    }
   ],
   "source": [
    "old_stats, new_stats, p_value = bootstrap(np.mean, t.loc[t.origin == 'СССР', 'rating_old'], t.loc[t.origin == 'СССР', 'rating_new'], nbr_runs=1000)\n",
    "old_stats, new_stats, p_value"
   ]
  },
  {
   "cell_type": "code",
   "execution_count": 41,
   "metadata": {},
   "outputs": [
    {
     "data": {
      "text/plain": [
       "({'avg_metric': 8.16688947368421,\n",
       "  'metric_ci_lb': 8.110526315789471,\n",
       "  'metric_ci_ub': 8.231578947368419},\n",
       " {'avg_metric': 8.06256842105263,\n",
       "  'metric_ci_lb': 7.957894736842104,\n",
       "  'metric_ci_ub': 8.173684210526313},\n",
       " 0.142)"
      ]
     },
     "execution_count": 41,
     "metadata": {},
     "output_type": "execute_result"
    }
   ],
   "source": [
    "old_stats, new_stats, p_value = bootstrap(np.mean, t.loc[t.genre == 'фантастика/ боевик', 'rating_old'], \n",
    "                                          t.loc[t.genre == 'фантастика/ боевик', 'rating_new'], nbr_runs=1000)\n",
    "old_stats, new_stats, p_value"
   ]
  },
  {
   "cell_type": "markdown",
   "metadata": {},
   "source": [
    "As we can see, the results are consistent with what we saw with Mann-Whitney U tests: only USSR ratings are different over time, USA and action movies are not statistically significantly different.\n"
   ]
  }
 ],
 "metadata": {
  "kernelspec": {
   "display_name": "Python 3",
   "language": "python",
   "name": "python3"
  },
  "language_info": {
   "codemirror_mode": {
    "name": "ipython",
    "version": 3
   },
   "file_extension": ".py",
   "mimetype": "text/x-python",
   "name": "python",
   "nbconvert_exporter": "python",
   "pygments_lexer": "ipython3",
   "version": "3.6.5"
  }
 },
 "nbformat": 4,
 "nbformat_minor": 2
}
